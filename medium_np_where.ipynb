{
 "cells": [
  {
   "cell_type": "markdown",
   "id": "d121557d-ca08-49c9-8d05-7254967a5952",
   "metadata": {},
   "source": [
    "#### np.where #Titanic\n",
    "___ \n",
    "Often, writeups on the **#Titanic** dataset use the *if ... condition* to impute average values, typically for age.  \n",
    "In my [Medium](https://medium.com/@AKayode_research/np-where-the-titanic-83bdc0a16b11) post,  \n",
    "I attempted using ***np.where*** to impute missing NaN/null value. The trick is the *nested np.where*  \n",
    "\n",
    "NB: Here, I used a dynamically generated data as a proxy for the #titanic dataset.\n"
   ]
  },
  {
   "cell_type": "code",
   "execution_count": 1,
   "id": "52eead27-8c11-4690-baac-533b561fb463",
   "metadata": {},
   "outputs": [],
   "source": [
    "## import libraries\n",
    "import pandas as pd\n",
    "import numpy as np"
   ]
  },
  {
   "cell_type": "code",
   "execution_count": 2,
   "id": "6547717e-a165-4b13-b1db-2dacab366da9",
   "metadata": {},
   "outputs": [
    {
     "name": "stdout",
     "output_type": "stream",
     "text": [
      "A: [20 23 26 29] | B: [3 4 5 1 1 2 3 3]\n"
     ]
    },
    {
     "data": {
      "text/html": [
       "<div>\n",
       "<style scoped>\n",
       "    .dataframe tbody tr th:only-of-type {\n",
       "        vertical-align: middle;\n",
       "    }\n",
       "\n",
       "    .dataframe tbody tr th {\n",
       "        vertical-align: top;\n",
       "    }\n",
       "\n",
       "    .dataframe thead th {\n",
       "        text-align: right;\n",
       "    }\n",
       "</style>\n",
       "<table border=\"1\" class=\"dataframe\">\n",
       "  <thead>\n",
       "    <tr style=\"text-align: right;\">\n",
       "      <th></th>\n",
       "      <th>0</th>\n",
       "      <th>1</th>\n",
       "    </tr>\n",
       "  </thead>\n",
       "  <tbody>\n",
       "    <tr>\n",
       "      <th>0</th>\n",
       "      <td>20.0</td>\n",
       "      <td>3</td>\n",
       "    </tr>\n",
       "    <tr>\n",
       "      <th>1</th>\n",
       "      <td>23.0</td>\n",
       "      <td>4</td>\n",
       "    </tr>\n",
       "    <tr>\n",
       "      <th>2</th>\n",
       "      <td>26.0</td>\n",
       "      <td>5</td>\n",
       "    </tr>\n",
       "    <tr>\n",
       "      <th>3</th>\n",
       "      <td>29.0</td>\n",
       "      <td>1</td>\n",
       "    </tr>\n",
       "    <tr>\n",
       "      <th>4</th>\n",
       "      <td>NaN</td>\n",
       "      <td>1</td>\n",
       "    </tr>\n",
       "    <tr>\n",
       "      <th>5</th>\n",
       "      <td>NaN</td>\n",
       "      <td>2</td>\n",
       "    </tr>\n",
       "    <tr>\n",
       "      <th>6</th>\n",
       "      <td>NaN</td>\n",
       "      <td>3</td>\n",
       "    </tr>\n",
       "    <tr>\n",
       "      <th>7</th>\n",
       "      <td>NaN</td>\n",
       "      <td>3</td>\n",
       "    </tr>\n",
       "  </tbody>\n",
       "</table>\n",
       "</div>"
      ],
      "text/plain": [
       "      0  1\n",
       "0  20.0  3\n",
       "1  23.0  4\n",
       "2  26.0  5\n",
       "3  29.0  1\n",
       "4   NaN  1\n",
       "5   NaN  2\n",
       "6   NaN  3\n",
       "7   NaN  3"
      ]
     },
     "execution_count": 2,
     "metadata": {},
     "output_type": "execute_result"
    }
   ],
   "source": [
    "## create data (in lieu of the Titanic dataset)\n",
    "A = np.arange(20, 30, 3) #This will create a list with 4 elements (needed to ensure at least one NaN)\n",
    "\n",
    "B1 = np.arange(3,6)\n",
    "#Generate a 5 x 1 array* of ints between 1 and 3, inclusive:\n",
    "B_add = np.random.default_rng().integers(1,4, size=(5))\n",
    "B = np.append(B1, B_add) #concatenate or vstack for scalar\n",
    "print(f'A: {A} | B: {B}')\n",
    "\n",
    "## create dataframe, transposed, and check the created data\n",
    "cols_test = pd.DataFrame([A,B]).T\n",
    "cols_test[1] = cols_test[1].astype(int) #Ensure the pclass column is int\n",
    "cols_test"
   ]
  },
  {
   "cell_type": "code",
   "execution_count": 3,
   "id": "f8f3f4ce-9b2d-4fb4-84e7-428b43ff4a1a",
   "metadata": {},
   "outputs": [],
   "source": [
    "## define function to check NaN/null age and assign age\n",
    "def impute_age(cols):\n",
    "    age = cols[0] # assign first column to age Series\n",
    "    #print(f'age: {age}') #debug\n",
    "    age1 = cols.loc[:,0] # assign first column to age Series\n",
    "    #print(f'age1: {age1}') #debug\n",
    "    pclass = cols.loc[:,1] # why compare operator instead of assign | pclass == cols[1]\n",
    "    \n",
    "    '''\n",
    "    age_null = np.where((cols[0].isnull()) & (cols[1]==1), 37,\n",
    "                        np.where((cols[0].isnull()) & (cols[1]==2), 39,\n",
    "                        np.where((cols[0].isnull()) & (cols[1] != (1 | 2)), 24,   \n",
    "                                  cols[0]))).astype(int)\n",
    "    '''\n",
    "\n",
    "    ## nested np.where\n",
    "    age_null = np.where((cols[0].isnull()) & (cols[1]==1), 37,\n",
    "                        np.where((cols[0].isnull()) & (cols[1]==2), 39,\n",
    "                        np.where((cols[0].isnull()) & (np.logical_or(cols[1] != 1, cols[1] != 2)), 24,   \n",
    "                                  cols[0]))).astype(int)\n",
    "\n",
    "    print(f'age col[0]: \\n{age_null}')"
   ]
  },
  {
   "cell_type": "code",
   "execution_count": 4,
   "id": "b422596e-3db3-4cbb-886b-371f1e21fc6a",
   "metadata": {},
   "outputs": [
    {
     "name": "stdout",
     "output_type": "stream",
     "text": [
      "age col[0]: \n",
      "[20 23 26 29 37 39 24 24]\n"
     ]
    }
   ],
   "source": [
    "impute_age(cols_test)"
   ]
  },
  {
   "cell_type": "code",
   "execution_count": null,
   "id": "e90df785-d185-45a9-8a83-945c29c00e1e",
   "metadata": {},
   "outputs": [],
   "source": []
  },
  {
   "cell_type": "code",
   "execution_count": 5,
   "id": "fe7a9ca7-db3e-4bff-b37e-9cd1c2b30b9e",
   "metadata": {},
   "outputs": [],
   "source": [
    "## =============== =============== ##\n",
    "#        Below Caveat Emptor        #\n",
    "## =============== =============== ##"
   ]
  },
  {
   "cell_type": "code",
   "execution_count": 6,
   "id": "4bc2d597-da60-424a-8326-406332db03fa",
   "metadata": {},
   "outputs": [
    {
     "name": "stdout",
     "output_type": "stream",
     "text": [
      "age col[0]: \n",
      "[20 23 26 29 37 39 24 24]\n"
     ]
    },
    {
     "name": "stderr",
     "output_type": "stream",
     "text": [
      "<>:14: SyntaxWarning: \"is not\" with a literal. Did you mean \"!=\"?\n",
      "<>:14: SyntaxWarning: \"is not\" with a literal. Did you mean \"!=\"?\n",
      "C:\\Users\\kayode\\AppData\\Local\\Temp/ipykernel_122456/15754399.py:14: SyntaxWarning: \"is not\" with a literal. Did you mean \"!=\"?\n",
      "  np.where((cols[0].isnull()) & (cols[1] is not (1 | 2)), 24,\n"
     ]
    }
   ],
   "source": [
    "## SyntaxWarning: \"is not\" with a literal. Did you mean \"!=\"?\n",
    "\n",
    "## define function to check NaN/null age and assign age\n",
    "def impute_age1(cols):\n",
    "    age = cols[0] # assign first column to age Series\n",
    "    #print(f'age: {age}') #debug\n",
    "    age1 = cols.loc[:,0] # assign first column to age Series\n",
    "    #print(f'age1: {age1}') #debug\n",
    "    pclass = cols.loc[:,1] # why compare operator instead of assign | pclass == cols[1]\n",
    "\n",
    "    ## nested np.where\n",
    "    age_null1 = np.where((cols[0].isnull()) & (cols[1]==1), 37,\n",
    "                        np.where((cols[0].isnull()) & (cols[1]==2), 39,\n",
    "                        np.where((cols[0].isnull()) & (cols[1] is not (1 | 2)), 24,   \n",
    "                                  cols[0]))).astype(int)\n",
    "\n",
    "    print(f'age col[0]: \\n{age_null1}')\n",
    "    \n",
    "impute_age1(cols_test)"
   ]
  },
  {
   "cell_type": "code",
   "execution_count": null,
   "id": "66d719ce-0b13-45a2-9391-4cc2600b3769",
   "metadata": {},
   "outputs": [],
   "source": []
  },
  {
   "cell_type": "code",
   "execution_count": 7,
   "id": "231d465e-a79b-4e6c-b5c8-7d74322db839",
   "metadata": {},
   "outputs": [
    {
     "name": "stdout",
     "output_type": "stream",
     "text": [
      "age col[0]: \n",
      "[         20          23          26          29          37          39\n",
      " -2147483648 -2147483648]\n"
     ]
    }
   ],
   "source": [
    "## SyntaxWarning:  || err: -9223372036854775808 | -2147483648 due to NaN/null \n",
    "\n",
    "## define function to check NaN/null age and assign age\n",
    "def impute_age2(cols):\n",
    "    age = cols[0] # assign first column to age Series\n",
    "    #print(f'age: {age}') #debug\n",
    "    age1 = cols.loc[:,0] # assign first column to age Series\n",
    "    #print(f'age1: {age1}') #debug\n",
    "    pclass = cols.loc[:,1] # why compare operator instead of assign | pclass == cols[1]\n",
    "    \n",
    "\n",
    "    ## nested np.where\n",
    "    age_null2 = np.where((cols[0].isnull()) & (cols[1]==1), 37,\n",
    "                        np.where((cols[0].isnull()) & (cols[1]==2), 39,\n",
    "                        np.where((cols[0].isnull()) & (cols[1] != (1 | 2)), 24,   \n",
    "                                  cols[0]))).astype(int)\n",
    "\n",
    "    print(f'age col[0]: \\n{age_null2}')\n",
    "    \n",
    "impute_age2(cols_test)"
   ]
  },
  {
   "cell_type": "code",
   "execution_count": null,
   "id": "836bedc9-d3a6-4095-9bfc-b4cc0c79c094",
   "metadata": {},
   "outputs": [],
   "source": []
  },
  {
   "cell_type": "code",
   "execution_count": 8,
   "id": "aa95274d-050d-45b6-a9b1-71d7cc22b82a",
   "metadata": {},
   "outputs": [
    {
     "name": "stdout",
     "output_type": "stream",
     "text": [
      "age col[0]: \n",
      "[         20          23          26          29          37          39\n",
      " -2147483648 -2147483648]\n"
     ]
    }
   ],
   "source": [
    "## SyntaxWarning:  || err: -9223372036854775808 | -2147483648 (depends on Python version/interpreter)\n",
    "\n",
    "## define function to check NaN/null age and assign age\n",
    "def impute_age3(cols):\n",
    "    age = cols[0] # assign first column to age Series\n",
    "    #print(f'age: {age}') #debug\n",
    "    age1 = cols.loc[:,0] # assign first column to age Series\n",
    "    #print(f'age1: {age1}') #debug\n",
    "    pclass = cols.loc[:,1] # why compare operator instead of assign | pclass == cols[1]\n",
    "\n",
    "    ## nested np.where || err: -9223372036854775808\n",
    "    age_null3 = np.where((cols[0].isnull()) & (cols[1]==1), 37,\n",
    "                        np.where((cols[0].isnull()) & (cols[1]==2), 39,\n",
    "                        np.where((cols[0].isnull()) & (cols[1].ne(1 | 2)), 24,   \n",
    "                                  cols[0]))).astype(int)\n",
    "    \n",
    "    print(f'age col[0]: \\n{age_null3}')\n",
    "    \n",
    "impute_age3(cols_test)"
   ]
  },
  {
   "cell_type": "code",
   "execution_count": null,
   "id": "e90548e9-fc89-4120-b07e-c5bccc333dfe",
   "metadata": {},
   "outputs": [],
   "source": []
  },
  {
   "cell_type": "code",
   "execution_count": 9,
   "id": "f32bda5a-bdcf-47ad-a638-9875c46ea1f0",
   "metadata": {},
   "outputs": [
    {
     "ename": "ValueError",
     "evalue": "The truth value of a Series is ambiguous. Use a.empty, a.bool(), a.item(), a.any() or a.all().",
     "output_type": "error",
     "traceback": [
      "\u001b[1;31m---------------------------------------------------------------------------\u001b[0m",
      "\u001b[1;31mValueError\u001b[0m                                Traceback (most recent call last)",
      "\u001b[1;32m~\\AppData\\Local\\Temp/ipykernel_122456/495098029.py\u001b[0m in \u001b[0;36m<module>\u001b[1;34m\u001b[0m\n\u001b[0;32m     17\u001b[0m     \u001b[0mprint\u001b[0m\u001b[1;33m(\u001b[0m\u001b[1;34mf'age col[0]: \\n{age_null4}'\u001b[0m\u001b[1;33m)\u001b[0m\u001b[1;33m\u001b[0m\u001b[1;33m\u001b[0m\u001b[0m\n\u001b[0;32m     18\u001b[0m \u001b[1;33m\u001b[0m\u001b[0m\n\u001b[1;32m---> 19\u001b[1;33m \u001b[0mimpute_age4\u001b[0m\u001b[1;33m(\u001b[0m\u001b[0mcols_test\u001b[0m\u001b[1;33m)\u001b[0m\u001b[1;33m\u001b[0m\u001b[1;33m\u001b[0m\u001b[0m\n\u001b[0m",
      "\u001b[1;32m~\\AppData\\Local\\Temp/ipykernel_122456/495098029.py\u001b[0m in \u001b[0;36mimpute_age4\u001b[1;34m(cols)\u001b[0m\n\u001b[0;32m     12\u001b[0m     age_null4 = np.where((cols[0].isnull()) & (cols[1]==1), 37,\n\u001b[0;32m     13\u001b[0m                         np.where((cols[0].isnull()) & (cols[1]==2), 39,\n\u001b[1;32m---> 14\u001b[1;33m                         np.where((cols[0].isnull()) & (cols[1] != 1 | cols[1] != 2), 24,   \n\u001b[0m\u001b[0;32m     15\u001b[0m                                   cols[0]))).astype(int)\n\u001b[0;32m     16\u001b[0m \u001b[1;33m\u001b[0m\u001b[0m\n",
      "\u001b[1;32mC:\\Dat\\Anaconda3\\lib\\site-packages\\pandas\\core\\generic.py\u001b[0m in \u001b[0;36m__nonzero__\u001b[1;34m(self)\u001b[0m\n\u001b[0;32m   1533\u001b[0m     \u001b[1;33m@\u001b[0m\u001b[0mfinal\u001b[0m\u001b[1;33m\u001b[0m\u001b[1;33m\u001b[0m\u001b[0m\n\u001b[0;32m   1534\u001b[0m     \u001b[1;32mdef\u001b[0m \u001b[0m__nonzero__\u001b[0m\u001b[1;33m(\u001b[0m\u001b[0mself\u001b[0m\u001b[1;33m)\u001b[0m\u001b[1;33m:\u001b[0m\u001b[1;33m\u001b[0m\u001b[1;33m\u001b[0m\u001b[0m\n\u001b[1;32m-> 1535\u001b[1;33m         raise ValueError(\n\u001b[0m\u001b[0;32m   1536\u001b[0m             \u001b[1;34mf\"The truth value of a {type(self).__name__} is ambiguous. \"\u001b[0m\u001b[1;33m\u001b[0m\u001b[1;33m\u001b[0m\u001b[0m\n\u001b[0;32m   1537\u001b[0m             \u001b[1;34m\"Use a.empty, a.bool(), a.item(), a.any() or a.all().\"\u001b[0m\u001b[1;33m\u001b[0m\u001b[1;33m\u001b[0m\u001b[0m\n",
      "\u001b[1;31mValueError\u001b[0m: The truth value of a Series is ambiguous. Use a.empty, a.bool(), a.item(), a.any() or a.all()."
     ]
    }
   ],
   "source": [
    "## ValueError: The truth value of a Series is ambiguous\n",
    "\n",
    "## define function to check NaN/null age and assign age\n",
    "def impute_age4(cols):\n",
    "    age = cols[0] # assign first column to age Series\n",
    "    #print(f'age: {age}') #debug\n",
    "    age1 = cols.loc[:,0] # assign first column to age Series\n",
    "    #print(f'age1: {age1}') #debug\n",
    "    pclass = cols.loc[:,1] # why compare operator instead of assign | pclass == cols[1]\n",
    "\n",
    "    ## nested np.where\n",
    "    age_null4 = np.where((cols[0].isnull()) & (cols[1]==1), 37,\n",
    "                        np.where((cols[0].isnull()) & (cols[1]==2), 39,\n",
    "                        np.where((cols[0].isnull()) & (cols[1] != 1 | cols[1] != 2), 24,   \n",
    "                                  cols[0]))).astype(int)\n",
    "\n",
    "    print(f'age col[0]: \\n{age_null4}')\n",
    "\n",
    "impute_age4(cols_test)"
   ]
  },
  {
   "cell_type": "code",
   "execution_count": null,
   "id": "1d41a19b-d558-409c-90e3-e342b5b27cd2",
   "metadata": {},
   "outputs": [],
   "source": []
  }
 ],
 "metadata": {
  "kernelspec": {
   "display_name": "Python 3 (ipykernel)",
   "language": "python",
   "name": "python3"
  },
  "language_info": {
   "codemirror_mode": {
    "name": "ipython",
    "version": 3
   },
   "file_extension": ".py",
   "mimetype": "text/x-python",
   "name": "python",
   "nbconvert_exporter": "python",
   "pygments_lexer": "ipython3",
   "version": "3.8.8"
  }
 },
 "nbformat": 4,
 "nbformat_minor": 5
}
